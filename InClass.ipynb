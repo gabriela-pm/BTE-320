{
  "nbformat": 4,
  "nbformat_minor": 0,
  "metadata": {
    "colab": {
      "provenance": [],
      "authorship_tag": "ABX9TyNhEvjQa+ggIzCuZkHoaJqn",
      "include_colab_link": true
    },
    "kernelspec": {
      "name": "python3",
      "display_name": "Python 3"
    },
    "language_info": {
      "name": "python"
    }
  },
  "cells": [
    {
      "cell_type": "markdown",
      "metadata": {
        "id": "view-in-github",
        "colab_type": "text"
      },
      "source": [
        "<a href=\"https://colab.research.google.com/github/gabriela-pm/BTE-320/blob/main/InClass.ipynb\" target=\"_parent\"><img src=\"https://colab.research.google.com/assets/colab-badge.svg\" alt=\"Open In Colab\"/></a>"
      ]
    },
    {
      "cell_type": "code",
      "execution_count": null,
      "metadata": {
        "id": "0GiB93XyQFE7"
      },
      "outputs": [],
      "source": []
    },
    {
      "cell_type": "code",
      "source": [
        "if condition:\n",
        "  expr\n",
        "  expr\n"
      ],
      "metadata": {
        "id": "Ys9zN9GgULNu"
      },
      "execution_count": null,
      "outputs": []
    },
    {
      "cell_type": "code",
      "source": [
        "fico = int(input(\"Please provide your FICO score:\"))\n",
        "\n",
        "if fico >= 700:\n",
        "  print(\"Loan granted!\")\n",
        "else:\n",
        "  print(\"Loan denied!\")"
      ],
      "metadata": {
        "colab": {
          "base_uri": "https://localhost:8080/"
        },
        "id": "Ioaf9IBvWB1V",
        "outputId": "73231d06-2d6c-4ed2-a5e4-9752dfff199d"
      },
      "execution_count": 6,
      "outputs": [
        {
          "output_type": "stream",
          "name": "stdout",
          "text": [
            "Please provide your FICO score:500\n",
            "Loan denied!\n"
          ]
        }
      ]
    },
    {
      "cell_type": "code",
      "source": [
        "fico = int(input(\"Please provide your FICO score:\"))\n",
        "\n",
        "if fico >= 700:\n",
        "  print(\"Loan granted!\")\n",
        "else:\n",
        "  print(\"Loan denied!\")"
      ],
      "metadata": {
        "id": "tnBQd6aNZA4a"
      },
      "execution_count": null,
      "outputs": []
    },
    {
      "cell_type": "code",
      "source": [
        "fico = int(input(\"Please provide your FICO score:\"))\n",
        "\n",
        "if fico >= 700:\n",
        "  print(\"Loan granted!\")\n",
        "elif fico < 700:\n",
        "  print(\"Loan denied!\")"
      ],
      "metadata": {
        "colab": {
          "base_uri": "https://localhost:8080/"
        },
        "id": "ejcnMrx_ZDoq",
        "outputId": "004ebe04-b7ea-41c1-d9ea-dc6ac80ebcdb"
      },
      "execution_count": 7,
      "outputs": [
        {
          "output_type": "stream",
          "name": "stdout",
          "text": [
            "Please provide your FICO score:500\n",
            "Loan denied!\n"
          ]
        }
      ]
    }
  ]
}