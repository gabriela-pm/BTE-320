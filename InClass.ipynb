{
  "nbformat": 4,
  "nbformat_minor": 0,
  "metadata": {
    "colab": {
      "provenance": [],
      "authorship_tag": "ABX9TyO8KQqU/YAIzB0FteVT50kf",
      "include_colab_link": true
    },
    "kernelspec": {
      "name": "python3",
      "display_name": "Python 3"
    },
    "language_info": {
      "name": "python"
    }
  },
  "cells": [
    {
      "cell_type": "markdown",
      "metadata": {
        "id": "view-in-github",
        "colab_type": "text"
      },
      "source": [
        "<a href=\"https://colab.research.google.com/github/gabriela-pm/BTE-320/blob/main/InClass.ipynb\" target=\"_parent\"><img src=\"https://colab.research.google.com/assets/colab-badge.svg\" alt=\"Open In Colab\"/></a>"
      ]
    },
    {
      "cell_type": "code",
      "execution_count": null,
      "metadata": {
        "colab": {
          "base_uri": "https://localhost:8080/"
        },
        "id": "0GiB93XyQFE7",
        "outputId": "2cfa1d50-ca51-48c7-b578-345d13c7534f"
      },
      "outputs": [
        {
          "output_type": "stream",
          "name": "stdout",
          "text": [
            "Enter radius: 5\n",
            "Enter height:7\n",
            "Area of Cylinder: 376.8 sq. ft\n"
          ]
        }
      ],
      "source": [
        "pi = 3.14\n",
        "radius = float(input(\"Enter radius: \"))\n",
        "height = float(input(\"Enter height:\"))\n",
        "\n",
        "area = (2 * pi * (radius ** 2)) + (2 * pi * radius * height)\n",
        "\n",
        "print(f\"Area of Cylinder: {area} sq. ft\")"
      ]
    },
    {
      "cell_type": "code",
      "source": [
        "fico = int(input(\"Please provide your FICO score:\"))\n",
        "\n",
        "if fico >= 700:\n",
        "  print(\"Loan granted!\")\n",
        "else:\n",
        "  print(\"Loan denied!\")"
      ],
      "metadata": {
        "colab": {
          "base_uri": "https://localhost:8080/"
        },
        "id": "Ioaf9IBvWB1V",
        "outputId": "73231d06-2d6c-4ed2-a5e4-9752dfff199d"
      },
      "execution_count": null,
      "outputs": [
        {
          "output_type": "stream",
          "name": "stdout",
          "text": [
            "Please provide your FICO score:500\n",
            "Loan denied!\n"
          ]
        }
      ]
    },
    {
      "cell_type": "code",
      "source": [
        "fico = int(input(\"Please provide your FICO score:\"))\n",
        "\n",
        "if fico >= 700:\n",
        "  print(\"Loan granted!\")\n",
        "else:\n",
        "  print(\"Loan denied!\")"
      ],
      "metadata": {
        "id": "tnBQd6aNZA4a",
        "colab": {
          "base_uri": "https://localhost:8080/"
        },
        "outputId": "7444aaeb-d781-4cfa-9b64-c19998b3fdba"
      },
      "execution_count": 1,
      "outputs": [
        {
          "output_type": "stream",
          "name": "stdout",
          "text": [
            "Please provide your FICO score:500\n",
            "Loan denied!\n"
          ]
        }
      ]
    },
    {
      "cell_type": "code",
      "source": [
        "fico = int(input(\"Please provide your FICO score:\"))\n",
        "\n",
        "if fico >= 700:\n",
        "  print(\"Loan granted!\")\n",
        "elif fico < 700:\n",
        "  print(\"Loan denied!\")"
      ],
      "metadata": {
        "colab": {
          "base_uri": "https://localhost:8080/"
        },
        "id": "ejcnMrx_ZDoq",
        "outputId": "004ebe04-b7ea-41c1-d9ea-dc6ac80ebcdb"
      },
      "execution_count": null,
      "outputs": [
        {
          "output_type": "stream",
          "name": "stdout",
          "text": [
            "Please provide your FICO score:500\n",
            "Loan denied!\n"
          ]
        }
      ]
    },
    {
      "cell_type": "code",
      "source": [
        "num = float(input(\"Please enter your number grade (0-100): \"))\n",
        "\n",
        "if num >= 97:\n",
        "  print(\"A+\")\n",
        "elif num >= 93:\n",
        "  print(\"A\")\n",
        "elif num >= 90:\n",
        "  print(\"A-\")\n",
        "elif num >= 87:\n",
        "  print(\"B+\")\n",
        "elif num >= 83:\n",
        "  print(\"B\")\n",
        "elif num >= 80:\n",
        "  print(\"B-\")"
      ],
      "metadata": {
        "colab": {
          "base_uri": "https://localhost:8080/"
        },
        "id": "baAil5-BkOiy",
        "outputId": "c5b1abeb-ab8e-4be4-91b8-a5d59e91b668"
      },
      "execution_count": 5,
      "outputs": [
        {
          "output_type": "stream",
          "name": "stdout",
          "text": [
            "Please enter your number grade (0-100): 98\n",
            "A+\n"
          ]
        }
      ]
    },
    {
      "cell_type": "code",
      "source": [
        "customer_type = input(\"Please provide your customer type (N: new / E: existing)\")\n",
        "deposit = float(input(\"Please provide your deposit ammount ($):\"))\n",
        "\n",
        "if customer_type == \"E\" :\n",
        "  if deposit >= 10_000:\n",
        "    ir = 3.5 # % value\n",
        "  elif deposit >= 1_000:\n",
        "    ir = 3.25\n",
        "  else:\n",
        "    ir = 3.0\n",
        "else:\n",
        "  ir = 4.0\n",
        "\n",
        "total = (1+ir/100) * deposit\n",
        "print(f\"Total amount due: {total}$\")"
      ],
      "metadata": {
        "colab": {
          "base_uri": "https://localhost:8080/"
        },
        "id": "gNBDBpQ9omZV",
        "outputId": "56ba15bc-9158-4b35-d679-189354577bab"
      },
      "execution_count": 14,
      "outputs": [
        {
          "output_type": "stream",
          "name": "stdout",
          "text": [
            "Please provide your customer type (N: new / E: existing)E\n",
            "Please provide your deposit ammount ($):5000\n",
            "Total amount due: 5162.5$\n"
          ]
        }
      ]
    }
  ]
}