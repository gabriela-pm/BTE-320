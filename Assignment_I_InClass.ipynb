{
  "nbformat": 4,
  "nbformat_minor": 0,
  "metadata": {
    "colab": {
      "provenance": [],
      "authorship_tag": "ABX9TyOa2J+zghSz2yY7uBguxXds",
      "include_colab_link": true
    },
    "kernelspec": {
      "name": "python3",
      "display_name": "Python 3"
    },
    "language_info": {
      "name": "python"
    }
  },
  "cells": [
    {
      "cell_type": "markdown",
      "metadata": {
        "id": "view-in-github",
        "colab_type": "text"
      },
      "source": [
        "<a href=\"https://colab.research.google.com/github/gabriela-pm/BTE-320/blob/main/Assignment_I_InClass.ipynb\" target=\"_parent\"><img src=\"https://colab.research.google.com/assets/colab-badge.svg\" alt=\"Open In Colab\"/></a>"
      ]
    },
    {
      "cell_type": "markdown",
      "source": [
        "# Assignment 1"
      ],
      "metadata": {
        "id": "woMftIpwTaUv"
      }
    },
    {
      "cell_type": "code",
      "execution_count": null,
      "metadata": {
        "colab": {
          "base_uri": "https://localhost:8080/"
        },
        "id": "0GiB93XyQFE7",
        "outputId": "2cfa1d50-ca51-48c7-b578-345d13c7534f"
      },
      "outputs": [
        {
          "output_type": "stream",
          "name": "stdout",
          "text": [
            "Enter radius: 5\n",
            "Enter height:7\n",
            "Area of Cylinder: 376.8 sq. ft\n"
          ]
        }
      ],
      "source": [
        "pi = 3.14\n",
        "radius = float(input(\"Enter radius: \"))\n",
        "height = float(input(\"Enter height:\"))\n",
        "\n",
        "area = (2 * pi * (radius ** 2)) + (2 * pi * radius * height)\n",
        "\n",
        "print(f\"Area of Cylinder: {area} sq. ft\")"
      ]
    },
    {
      "cell_type": "markdown",
      "source": [
        "# Assignment 2"
      ],
      "metadata": {
        "id": "bjs6gh9RTeM1"
      }
    },
    {
      "cell_type": "code",
      "source": [
        "n1= float(input(\"Please Provide First Number: \"))\n",
        "n2= float(input(\"Please Provide Second Number: \"))\n",
        "op= input(\"Please Provide Operator: (+,-,*,/,//,**,%): \")\n",
        "if op == \"+\":\n",
        "    print(n1+n2)\n",
        "elif op == \"-\":\n",
        "    print(n1-n2)\n",
        "elif op == \"*\":\n",
        "    print(n1*n2)\n",
        "elif op == \"/\":\n",
        "    print(n1/n2)\n",
        "elif op == \"//\":\n",
        "    print(n1//n2)\n",
        "elif op == \"**\":\n",
        "    print(n1**n2)\n",
        "elif op == \"%\":\n",
        "    print(n1%n2)\n",
        "else:\n",
        "    print(\"Invalid Operator\")"
      ],
      "metadata": {
        "colab": {
          "base_uri": "https://localhost:8080/"
        },
        "id": "JUrkVhIvSpZa",
        "outputId": "7c49cafb-a4cd-4ed0-aed2-3ffd7cb8edad"
      },
      "execution_count": null,
      "outputs": [
        {
          "output_type": "stream",
          "name": "stdout",
          "text": [
            "Please Provide First Number: 5\n",
            "Please Provide Second Number: 2\n",
            "Please Provide Operator: (+,-,*,/,//,**,%): +\n",
            "7.0\n"
          ]
        }
      ]
    },
    {
      "cell_type": "markdown",
      "source": [
        "# Assignment 3\n"
      ],
      "metadata": {
        "id": "dWLxkW17mQeH"
      }
    },
    {
      "cell_type": "code",
      "source": [
        "for numberHours in range(1,9):\n",
        "  fee = 5 + 2.5 * numberHours\n",
        "  if fee < 10:\n",
        "    fee = 10.0\n",
        "  elif fee > 20:\n",
        "    fee = 20.0\n",
        "  print(numberHours, fee)"
      ],
      "metadata": {
        "colab": {
          "base_uri": "https://localhost:8080/"
        },
        "id": "W872yD0BmUH5",
        "outputId": "22ebc780-d908-4a27-cd6a-17bc3f4e9e33"
      },
      "execution_count": null,
      "outputs": [
        {
          "output_type": "stream",
          "name": "stdout",
          "text": [
            "1 10.0\n",
            "2 10.0\n",
            "3 12.5\n",
            "4 15.0\n",
            "5 17.5\n",
            "6 20.0\n",
            "7 20.0\n",
            "8 20.0\n"
          ]
        }
      ]
    },
    {
      "cell_type": "markdown",
      "source": [
        "# Assignment 4\n"
      ],
      "metadata": {
        "id": "11qoWtCmrzDq"
      }
    },
    {
      "cell_type": "code",
      "source": [
        "print(\"Ad $\\t\", \"Profit\")\n",
        "for admoney in range(0,201,25):\n",
        "  revenue = (20 + 2 * round(admoney ** 0.5)) * 10\n",
        "  costs = 200 + admoney\n",
        "  profit = revenue - costs\n",
        "  print(admoney, \"\\t\", profit)"
      ],
      "metadata": {
        "colab": {
          "base_uri": "https://localhost:8080/"
        },
        "id": "wxV3I0lTr1oz",
        "outputId": "5bcad6c7-6c3a-48ad-8ce9-259173b61d7c"
      },
      "execution_count": null,
      "outputs": [
        {
          "output_type": "stream",
          "name": "stdout",
          "text": [
            "Ad $\t Profit\n",
            "0 \t 0\n",
            "25 \t 75\n",
            "50 \t 90\n",
            "75 \t 105\n",
            "100 \t 100\n",
            "125 \t 95\n",
            "150 \t 90\n",
            "175 \t 85\n",
            "200 \t 80\n"
          ]
        }
      ]
    },
    {
      "cell_type": "markdown",
      "source": [
        "# Assignment 5\n",
        "\n",
        "Rock - Paper - Scissors\n",
        "\n",
        "The classic game of random choice. Write a program in Python that includes two players playing the game. Each player´s cjoice is given from the keyboard."
      ],
      "metadata": {
        "id": "ycUAREQFWnBk"
      }
    },
    {
      "cell_type": "code",
      "source": [
        "play = input(\"Do you want to play Rock, Paper, Scissors? (yes/no): \")\n",
        "\n",
        "while play == \"Yes\":\n",
        "  p1 = input(\"Player 1 - Choose between rock/paper/scissors: \")\n",
        "  p2 = input(\"Player 2 - Choose between rock/paper/scissors: \")\n",
        "\n",
        "  if p1 == p2:\n",
        "    print(\"It's a draw!\")\n",
        "  elif (p1 == \"Rock\" and p2 == \"Scissors\"):\n",
        "    print(\"Player 1 wins!\")\n",
        "  elif (p1 == \"Scissors\" and p2 == \"Paper\"):\n",
        "    print(\"Player 1 wins!\")\n",
        "  elif (p1 == \"Paper\" and p2 == \"Rock\"):\n",
        "    print(\"Player 1 wins!\")\n",
        "  else:\n",
        "    print(\"Player 2 wins!\")\n",
        "\n",
        "  play = input(\"Do you want to play again? (yes/no): \")\n",
        "print(\"Good day...\")"
      ],
      "metadata": {
        "colab": {
          "base_uri": "https://localhost:8080/"
        },
        "id": "lkwIAzNacDRc",
        "outputId": "3aad6a64-2089-4fee-e57e-5c046e7de257"
      },
      "execution_count": null,
      "outputs": [
        {
          "output_type": "stream",
          "name": "stdout",
          "text": [
            "Do you want to play Rock, Paper, Scissors? (yes/no): Yes\n",
            "Player 1 - Choose between rock/paper/scissors: Rock\n",
            "Player 2 - Choose between rock/paper/scissors: Scissors\n",
            "Player 1 wins!\n",
            "Do you want to play again? (yes/no): No\n",
            "Good day...\n"
          ]
        }
      ]
    },
    {
      "cell_type": "markdown",
      "source": [
        "# Assignment 6\n",
        "\n",
        "Given an empty list, design a program that populates the list by repeatedly asking the user for numerical inputs. The process stops when the user gives 0. Finally, the list should be displayed in descending order."
      ],
      "metadata": {
        "id": "diHJgGI2ptNu"
      }
    },
    {
      "cell_type": "code",
      "source": [
        "first = []\n",
        "\n",
        "while True:\n",
        "  num = float(input(\"Give number: \"))\n",
        "  if num == 0.0:\n",
        "    break\n",
        "  first.append(num)\n",
        "first.sort (reverse = True)\n",
        "first"
      ],
      "metadata": {
        "colab": {
          "base_uri": "https://localhost:8080/"
        },
        "id": "FueN4keAemqq",
        "outputId": "1c9f688e-a7f1-498e-f3fb-830b7df306ec"
      },
      "execution_count": null,
      "outputs": [
        {
          "name": "stdout",
          "output_type": "stream",
          "text": [
            "Give number: 9790\n",
            "Give number: 898\n",
            "Give number: 00\n"
          ]
        },
        {
          "output_type": "execute_result",
          "data": {
            "text/plain": [
              "[9790.0, 898.0]"
            ]
          },
          "metadata": {},
          "execution_count": 24
        }
      ]
    },
    {
      "cell_type": "markdown",
      "source": [
        "# Assignment 7"
      ],
      "metadata": {
        "id": "UbC_JtV26rH3"
      }
    },
    {
      "cell_type": "code",
      "source": [
        "months = {}\n",
        "\n",
        "names = ['Jan', 'Feb', 'Mar', 'Apr', 'May', 'Jun', 'Jul', 'Aug', 'Sep', 'Oct', 'Nov', 'Dec']\n",
        "numbers = [1,2,3,4,5,6,7,8,9,10,11,12]\n",
        "\n",
        "for idx in range(len(numbers)):\n",
        "    months [numbers[idx]] = names[idx]\n",
        "months"
      ],
      "metadata": {
        "id": "ytH9KVfG6uQF",
        "colab": {
          "base_uri": "https://localhost:8080/"
        },
        "outputId": "06bb2b86-a516-4eb0-e0ac-8298835f069c"
      },
      "execution_count": null,
      "outputs": [
        {
          "output_type": "execute_result",
          "data": {
            "text/plain": [
              "{1: 'Jan',\n",
              " 2: 'Feb',\n",
              " 3: 'Mar',\n",
              " 4: 'Apr',\n",
              " 5: 'May',\n",
              " 6: 'Jun',\n",
              " 7: 'Jul',\n",
              " 8: 'Aug',\n",
              " 9: 'Sep',\n",
              " 10: 'Oct',\n",
              " 11: 'Nov',\n",
              " 12: 'Dec'}"
            ]
          },
          "metadata": {},
          "execution_count": 9
        }
      ]
    },
    {
      "cell_type": "code",
      "source": [
        "from typing import Counter\n",
        "months = {}\n",
        "\n",
        "names = ['Jan', 'Feb', 'Mar', 'Apr', 'May', 'Jun', 'Jul', 'Aug', 'Sep', 'Oct', 'Nov', 'Dec']\n",
        "numbers = [1,2,3,4,5,6,7,8,9,10,11,12]\n",
        "\n",
        "cntr=0\n",
        "for num in numbers:\n",
        "  months [num] = names[cntr]\n",
        "months"
      ],
      "metadata": {
        "colab": {
          "base_uri": "https://localhost:8080/"
        },
        "id": "kDEFSNEPFjyx",
        "outputId": "a6e2bbbb-5bd6-43b6-86d7-19898e5f3b41"
      },
      "execution_count": null,
      "outputs": [
        {
          "output_type": "execute_result",
          "data": {
            "text/plain": [
              "{1: 'Jan',\n",
              " 2: 'Jan',\n",
              " 3: 'Jan',\n",
              " 4: 'Jan',\n",
              " 5: 'Jan',\n",
              " 6: 'Jan',\n",
              " 7: 'Jan',\n",
              " 8: 'Jan',\n",
              " 9: 'Jan',\n",
              " 10: 'Jan',\n",
              " 11: 'Jan',\n",
              " 12: 'Jan'}"
            ]
          },
          "metadata": {},
          "execution_count": 13
        }
      ]
    },
    {
      "cell_type": "markdown",
      "source": [
        "# Assignment 8\n",
        "\n",
        "Build a dictionary dynamically\n"
      ],
      "metadata": {
        "id": "JvDFDzhgGn2c"
      }
    },
    {
      "cell_type": "code",
      "source": [
        "counts = {}\n",
        "\n",
        "while len(counts) < 5:\n",
        "  key = input(\"Give a string: \")\n",
        "\n",
        "  if key not in counts:\n",
        "    counts[key] = 1\n",
        "  else:\n",
        "    counts[key] = counts[key] + 1\n",
        "counts"
      ],
      "metadata": {
        "colab": {
          "base_uri": "https://localhost:8080/"
        },
        "id": "BaGL7TunGpEN",
        "outputId": "9e5ea6c2-83ed-4dd9-e88a-20c3ea35db1b"
      },
      "execution_count": null,
      "outputs": [
        {
          "name": "stdout",
          "output_type": "stream",
          "text": [
            "Give a string: a\n",
            "Give a string: b\n",
            "Give a string: c\n",
            "Give a string: c\n",
            "Give a string: c\n",
            "Give a string: c\n",
            "Give a string: d\n",
            "Give a string: w\n"
          ]
        },
        {
          "output_type": "execute_result",
          "data": {
            "text/plain": [
              "{'a': 1, 'b': 1, 'c': 4, 'd': 1, 'w': 1}"
            ]
          },
          "metadata": {},
          "execution_count": 15
        }
      ]
    },
    {
      "cell_type": "markdown",
      "source": [
        "# Assignment 9"
      ],
      "metadata": {
        "id": "vZ5wcFIbW1Bh"
      }
    },
    {
      "cell_type": "code",
      "source": [
        "def calcFee(hours):\n",
        "\n",
        "  fee = 5 + 2.5 * hours\n",
        "\n",
        "  if fee < 10.0:\n",
        "\n",
        "    fee = 10.0\n",
        "\n",
        "  elif fee >= 20.0:\n",
        "\n",
        "    fee = 20.0\n",
        "\n",
        "  print(f'Fee: {fee}$')\n",
        "\n",
        "\n",
        "\n",
        "def main():\n",
        "\n",
        "  numHours = int(input('Enter number of hours: '))\n",
        "\n",
        "  calcFee(numHours)\n",
        "\n",
        "\n",
        "\n",
        "main()"
      ],
      "metadata": {
        "id": "oLD4QKKQW3JU",
        "colab": {
          "base_uri": "https://localhost:8080/"
        },
        "outputId": "0067f543-59e1-44d2-d016-c22519b2776f"
      },
      "execution_count": null,
      "outputs": [
        {
          "output_type": "stream",
          "name": "stdout",
          "text": [
            "Enter number of hours: 3\n",
            "Fee: 12.5$\n"
          ]
        }
      ]
    },
    {
      "cell_type": "markdown",
      "source": [
        "# Assignment 10"
      ],
      "metadata": {
        "id": "9v-nKIW6erKY"
      }
    },
    {
      "cell_type": "code",
      "source": [
        "def reverse(s):\n",
        "  if len(s) <= 1:\n",
        "    return s\n",
        "  else:\n",
        "    #return s[-1] + reverse(s[:-1])\n",
        "    return reverse(s[1:]) + s[0]\n",
        "reverse(\"Hello\")"
      ],
      "metadata": {
        "id": "SB3kCSiaetOv",
        "outputId": "c729c936-cfdc-4332-e6eb-685411f2b0d1",
        "colab": {
          "base_uri": "https://localhost:8080/",
          "height": 35
        }
      },
      "execution_count": null,
      "outputs": [
        {
          "output_type": "execute_result",
          "data": {
            "text/plain": [
              "'olleH'"
            ],
            "application/vnd.google.colaboratory.intrinsic+json": {
              "type": "string"
            }
          },
          "metadata": {},
          "execution_count": 1
        }
      ]
    }
  ]
}